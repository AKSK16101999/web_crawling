{
 "cells": [
  {
   "cell_type": "code",
   "execution_count": 1,
   "metadata": {},
   "outputs": [],
   "source": [
    "import requests\n",
    "from bs4 import BeautifulSoup"
   ]
  },
  {
   "cell_type": "code",
   "execution_count": 2,
   "metadata": {},
   "outputs": [],
   "source": [
    "r = requests.get('https://www.indiatoday.in/technology/news')"
   ]
  },
  {
   "cell_type": "code",
   "execution_count": 3,
   "metadata": {},
   "outputs": [],
   "source": [
    "soup = BeautifulSoup(r.text, 'html.parser')"
   ]
  },
  {
   "cell_type": "code",
   "execution_count": 4,
   "metadata": {},
   "outputs": [
    {
     "data": {
      "text/plain": [
       "'India Today Technology: Latest smartphone, gadget and tech news'"
      ]
     },
     "execution_count": 4,
     "metadata": {},
     "output_type": "execute_result"
    }
   ],
   "source": [
    "soup.title.text"
   ]
  },
  {
   "cell_type": "code",
   "execution_count": 5,
   "metadata": {},
   "outputs": [
    {
     "data": {
      "text/plain": [
       "[<div class=\"detail\"><h2 class=\"\" title=\"Apple Watch ECG feature saves Indore man's life, Tim Cook wishes him speedy recovery\"><a href=\"/technology/news/story/apple-watch-ecg-feature-saves-indore-man-s-life-tim-cook-wishes-him-speedy-recovery-1733856-2020-10-21\">Apple Watch ECG feature saves Indore man's life, Tim Cook wishes him speedy recovery</a></h2><p>An Indore-based man saved himself from a potential cardiac arrest, thanks to\n",
       " the ECG feature on the Apple Watch Series 5.</p></div>,\n",
       " <div class=\"detail\"><h2 class=\"\" title=\"Facebook working on a feature that will let you love thy neighbour\"><a href=\"/technology/news/story/facebook-working-on-a-feature-that-will-let-you-love-thy-neighbour-1733848-2020-10-21\">Facebook working on a feature that will let you love thy neighbour</a></h2><p>The new Neighborhoods feature by Facebook is under testing right now and\n",
       " should roll out soon to everyone.</p></div>,\n",
       " <div class=\"detail\"><h2 class=\"\" title=\"Truecaller introduces call reason, SMS scheduling and message translation\"><a href=\"/technology/news/story/truecaller-introduces-call-reason-sms-scheduling-and-message-translation-1733818-2020-10-21\">Truecaller introduces call reason, SMS scheduling and message translation</a></h2><p>Truecaller users will now be able to set a reason for their call with the\n",
       " call reason feature so that the receiver can check what the call is about.</p></div>,\n",
       " <div class=\"detail\"><h2 class=\"\" title=\"Amazon festival sale to continue, ICICI card users to get 10 percent instant discount from Oct 24\"><a href=\"/technology/news/story/amazon-festival-sale-to-continue-icici-card-users-to-get-10-percent-instant-discount-from-oct-24-1733794-2020-10-21\">Amazon festival sale to continue, ICICI card users to get 10 percent instant discount from Oct 24</a></h2><p>Amazon will provide a 10 percent discount to ICICI debit and credit\n",
       " cardholders from October 24 to October 28.</p></div>,\n",
       " <div class=\"detail\"><h2 class=\"\" title=\"Amazfit Pop launched with 9-day battery life, sleep tracker, and heart-rate monitor\"><a href=\"/technology/news/story/amazfit-pop-launched-with-9-day-battery-life-sleep-tracker-and-heart-rate-monitor-1733790-2020-10-21\">Amazfit Pop launched with 9-day battery life, sleep tracker, and heart-rate monitor</a></h2><p>The budget-friendly smartwatch is available for preorder in China at an\n",
       " introductory price of CNY299 which is roughly Rs 3,300.</p></div>,\n",
       " <div class=\"detail\"><h2 class=\"\" title=\"iPhone 12 Pro Max battery specs revealed, gets smaller battery than iPhone 11 Pro Max\"><a href=\"/technology/news/story/iphone-12-pro-max-battery-specs-revealed-gets-smaller-battery-than-iphone-11-pro-max-1733779-2020-10-21\">iPhone 12 Pro Max battery specs revealed, gets smaller battery than iPhone 11 Pro Max</a></h2><p>Apple's biggest iPhone for the year has a capacity of 3,687mAh, which is\n",
       " smaller than that found on the iPhone 11 Pro Max.</p></div>,\n",
       " <div class=\"detail\"><h2 class=\"\" title=\"BSNL Rs 135 prepaid voucher now offers 1440 minutes of calling benefits with 24-day validity\"><a href=\"/technology/news/story/bsnl-rs-135-prepaid-voucher-now-offers-1440-minutes-of-calling-benefits-with-24-day-validity-1733759-2020-10-21\">BSNL Rs 135 prepaid voucher now offers 1440 minutes of calling benefits with 24-day validity</a></h2><p>Previously, BSNL offered 300 minutes of calling benefits with the Rs 135\n",
       " special tariff voucher. It has now extended the benefit to 1440 minutes.</p></div>,\n",
       " <div class=\"detail\"><h2 class=\"\" title=\"Oppo A33 with 90Hz screen, 13MP triple cameras launched at Rs 11,990\"><a href=\"/technology/news/story/oppo-a33-with-90hz-screen-13mp-triple-cameras-launched-at-rs-11-990-1733754-2020-10-21\">Oppo A33 with 90Hz screen, 13MP triple cameras launched at Rs 11,990</a></h2><p>Oppo A33 comes with a big 6.5-inch display that sports the 90Hz refresh rate\n",
       " for a smooth experience.</p></div>,\n",
       " <div class=\"detail\"><h2 class=\"\" title=\"Apple rolling out iOS 14.1, iPadOS 14.1 update, brings new features and bug fixes\"><a href=\"/technology/news/story/apple-rolling-out-ios-ipados-14-1-update-brings-new-features-and-bug-fixes-1733744-2020-10-21\">Apple rolling out iOS 14.1, iPadOS 14.1 update, brings new features and bug fixes</a></h2><p>The update brings new features, including 10-bit HDR video playback and edit\n",
       " support to iPhone and iPad models.</p></div>,\n",
       " <div class=\"detail\"><h2 class=\"\" title=\"Last day deals on iPhone, Samsung, Xiaomi phones, laptops, speakers in Flipkart Big Billion Days 2020 sale\"><a href=\"/technology/news/story/last-day-deals-on-iphone-samsung-xiaomi-phones-laptops-speakers-in-flipkart-big-billion-days-2020-sale-1733735-2020-10-21\">Last day deals on iPhone, Samsung, Xiaomi phones, laptops, speakers in Flipkart Big Billion Days 2020 sale</a></h2><p>Flipkart Big Billion Days sale is ending tonight and you have only a few\n",
       " hours to grab the best deal for yourself.</p></div>,\n",
       " <div class=\"detail\"><h2 class=\"\" title=\"Amazon allows employees to work from home through June 2021\"><a href=\"/technology/news/story/amazon-allows-employees-to-work-from-home-through-june-2021-1733710-2020-10-21\">Amazon allows employees to work from home through June 2021</a></h2><p>Amazon has extended the work from home period for its employees through June\n",
       " 2021.</p></div>,\n",
       " <div class=\"detail\"><h2 class=\"\" title=\"Samsung Galaxy M02 listed on Geekbench, key specifications, features leaked\"><a href=\"/technology/news/story/samsung-galaxy-m02-listed-on-geekbench-key-specifications-features-leaked-1733708-2020-10-21\">Samsung Galaxy M02 listed on Geekbench, key specifications, features leaked</a></h2><p>The Galaxy M02, is said to bring 3GB of RAM and be powered by an octa-core\n",
       " Qualcomm processor.</p></div>]"
      ]
     },
     "execution_count": 5,
     "metadata": {},
     "output_type": "execute_result"
    }
   ],
   "source": [
    "category=soup.find_all(\"div\",{\"class\":\"detail\"})\n",
    "category"
   ]
  },
  {
   "cell_type": "code",
   "execution_count": 6,
   "metadata": {},
   "outputs": [],
   "source": [
    "list1=[]\n",
    "dict1={}\n",
    "for res in category:\n",
    "        dict1[\"Title\"]=(res.find('h2').text)\n",
    "        dict1[\"Description\"]=(res.find('a').text+ res.find('p').text)\n",
    "        list1.append(dict1)"
   ]
  },
  {
   "cell_type": "code",
   "execution_count": 7,
   "metadata": {},
   "outputs": [],
   "source": [
    "import json"
   ]
  },
  {
   "cell_type": "code",
   "execution_count": 8,
   "metadata": {},
   "outputs": [],
   "source": [
    "with open('/Users/KANAWADE AKSHAY/Desktop/tech.json', 'w') as fp:\n",
    "    for item in list1:\n",
    "        json.dump(item,fp)\n",
    "        json.dump('\\n',fp)"
   ]
  },
  {
   "cell_type": "code",
   "execution_count": 9,
   "metadata": {},
   "outputs": [],
   "source": [
    "with open('/Users/KANAWADE AKSHAY/Desktop/tech.json') as fp:\n",
    "     data=fp.read()"
   ]
  },
  {
   "cell_type": "code",
   "execution_count": 10,
   "metadata": {},
   "outputs": [
    {
     "data": {
      "text/plain": [
       "'{\"Title\": \"Samsung Galaxy M02 listed on Geekbench, key specifications, features leaked\", \"Description\": \"Samsung Galaxy M02 listed on Geekbench, key specifications, features leakedThe Galaxy M02, is said to bring 3GB of RAM and be powered by an octa-core\\\\nQualcomm processor.\"}\"\\\\n\"{\"Title\": \"Samsung Galaxy M02 listed on Geekbench, key specifications, features leaked\", \"Description\": \"Samsung Galaxy M02 listed on Geekbench, key specifications, features leakedThe Galaxy M02, is said to bring 3GB of RAM and be powered by an octa-core\\\\nQualcomm processor.\"}\"\\\\n\"{\"Title\": \"Samsung Galaxy M02 listed on Geekbench, key specifications, features leaked\", \"Description\": \"Samsung Galaxy M02 listed on Geekbench, key specifications, features leakedThe Galaxy M02, is said to bring 3GB of RAM and be powered by an octa-core\\\\nQualcomm processor.\"}\"\\\\n\"{\"Title\": \"Samsung Galaxy M02 listed on Geekbench, key specifications, features leaked\", \"Description\": \"Samsung Galaxy M02 listed on Geekbench, key specifications, features leakedThe Galaxy M02, is said to bring 3GB of RAM and be powered by an octa-core\\\\nQualcomm processor.\"}\"\\\\n\"{\"Title\": \"Samsung Galaxy M02 listed on Geekbench, key specifications, features leaked\", \"Description\": \"Samsung Galaxy M02 listed on Geekbench, key specifications, features leakedThe Galaxy M02, is said to bring 3GB of RAM and be powered by an octa-core\\\\nQualcomm processor.\"}\"\\\\n\"{\"Title\": \"Samsung Galaxy M02 listed on Geekbench, key specifications, features leaked\", \"Description\": \"Samsung Galaxy M02 listed on Geekbench, key specifications, features leakedThe Galaxy M02, is said to bring 3GB of RAM and be powered by an octa-core\\\\nQualcomm processor.\"}\"\\\\n\"{\"Title\": \"Samsung Galaxy M02 listed on Geekbench, key specifications, features leaked\", \"Description\": \"Samsung Galaxy M02 listed on Geekbench, key specifications, features leakedThe Galaxy M02, is said to bring 3GB of RAM and be powered by an octa-core\\\\nQualcomm processor.\"}\"\\\\n\"{\"Title\": \"Samsung Galaxy M02 listed on Geekbench, key specifications, features leaked\", \"Description\": \"Samsung Galaxy M02 listed on Geekbench, key specifications, features leakedThe Galaxy M02, is said to bring 3GB of RAM and be powered by an octa-core\\\\nQualcomm processor.\"}\"\\\\n\"{\"Title\": \"Samsung Galaxy M02 listed on Geekbench, key specifications, features leaked\", \"Description\": \"Samsung Galaxy M02 listed on Geekbench, key specifications, features leakedThe Galaxy M02, is said to bring 3GB of RAM and be powered by an octa-core\\\\nQualcomm processor.\"}\"\\\\n\"{\"Title\": \"Samsung Galaxy M02 listed on Geekbench, key specifications, features leaked\", \"Description\": \"Samsung Galaxy M02 listed on Geekbench, key specifications, features leakedThe Galaxy M02, is said to bring 3GB of RAM and be powered by an octa-core\\\\nQualcomm processor.\"}\"\\\\n\"{\"Title\": \"Samsung Galaxy M02 listed on Geekbench, key specifications, features leaked\", \"Description\": \"Samsung Galaxy M02 listed on Geekbench, key specifications, features leakedThe Galaxy M02, is said to bring 3GB of RAM and be powered by an octa-core\\\\nQualcomm processor.\"}\"\\\\n\"{\"Title\": \"Samsung Galaxy M02 listed on Geekbench, key specifications, features leaked\", \"Description\": \"Samsung Galaxy M02 listed on Geekbench, key specifications, features leakedThe Galaxy M02, is said to bring 3GB of RAM and be powered by an octa-core\\\\nQualcomm processor.\"}\"\\\\n\"'"
      ]
     },
     "execution_count": 10,
     "metadata": {},
     "output_type": "execute_result"
    }
   ],
   "source": [
    "data"
   ]
  }
 ],
 "metadata": {
  "kernelspec": {
   "display_name": "Python 3",
   "language": "python",
   "name": "python3"
  },
  "language_info": {
   "codemirror_mode": {
    "name": "ipython",
    "version": 3
   },
   "file_extension": ".py",
   "mimetype": "text/x-python",
   "name": "python",
   "nbconvert_exporter": "python",
   "pygments_lexer": "ipython3",
   "version": "3.7.6"
  }
 },
 "nbformat": 4,
 "nbformat_minor": 4
}
