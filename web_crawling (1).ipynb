{
 "cells": [
  {
   "cell_type": "code",
   "execution_count": 1,
   "metadata": {},
   "outputs": [],
   "source": [
    "import requests\n",
    "from bs4 import BeautifulSoup"
   ]
  },
  {
   "cell_type": "code",
   "execution_count": 2,
   "metadata": {},
   "outputs": [],
   "source": [
    "r = requests.get('https://www.indiatoday.in/technology/news')"
   ]
  },
  {
   "cell_type": "code",
   "execution_count": 3,
   "metadata": {},
   "outputs": [],
   "source": [
    "soup = BeautifulSoup(r.text, 'html.parser')"
   ]
  },
  {
   "cell_type": "code",
   "execution_count": 4,
   "metadata": {},
   "outputs": [
    {
     "data": {
      "text/plain": [
       "'India Today Technology: Latest smartphone, gadget and tech news'"
      ]
     },
     "execution_count": 4,
     "metadata": {},
     "output_type": "execute_result"
    }
   ],
   "source": [
    "soup.title.text"
   ]
  },
  {
   "cell_type": "code",
   "execution_count": 5,
   "metadata": {},
   "outputs": [
    {
     "data": {
      "text/plain": [
       "[<div class=\"detail\"><h2 class=\"\" title=\"Facebook’s Ankhi Das questioned by Parliament panel, Amazon team refuses to appear\"><a href=\"/technology/news/story/facebook-s-ankhi-das-questioned-by-parliament-panel-amazon-team-refuses-to-appear-1734474-2020-10-23\">Facebook’s Ankhi Das questioned by Parliament panel, Amazon team refuses to appear</a></h2><p>Reports say that Facebook’s India policy head Ankhi Das, accused of\n",
       " favouring some BJP politicians on the social media site, appeared before a\n",
       " Parliament panel and was questioned for over two hours.</p></div>,\n",
       " <div class=\"detail\"><h2 class=\"\" title=\"Oppo A15 now available to buy on Amazon with 10 per cent discount\"><a href=\"/technology/news/story/oppo-a15-now-available-to-buy-on-amazon-with-10-per-cent-discount-1734469-2020-10-23\">Oppo A15 now available to buy on Amazon with 10 per cent discount</a></h2><p>Oppo A15 brings a MediaTek Helio P35 processor paired with 3GB of RAM and\n",
       " 32GB of storage.</p></div>,\n",
       " <div class=\"detail\"><h2 class=\"\" title=\"OnePlus Nord N10, N100 full specifications, features leak ahead of launch\"><a href=\"/technology/news/story/oneplus-nord-n10-n100-full-specifications-features-leak-ahead-of-launch-1734429-2020-10-23\">OnePlus Nord N10, N100 full specifications, features leak ahead of launch</a></h2><p>An exhaustive leak has revealed almost all there is to know about the rumored\n",
       " Nord device.</p></div>,\n",
       " <div class=\"detail\"><h2 class=\"\" title=\"Micromax to make comeback on November 3 with In smartphones\"><a href=\"/technology/news/story/micromax-to-make-comeback-on-november-3-with-in-smartphones-1734425-2020-10-23\">Micromax to make comeback on November 3 with In smartphones</a></h2><p>Micromax has scheduled an event for next month where it will announce new\n",
       " smartphones.</p></div>,\n",
       " <div class=\"detail\"><h2 class=\"\" title=\"Amazon Great Indian Festival sale to continue for a month: Top deals you should not miss \"><a href=\"/technology/news/story/amazon-great-indian-festival-sale-to-continue-for-a-month-top-deals-you-should-not-miss-1734421-2020-10-23\">Amazon Great Indian Festival sale to continue for a month: Top deals you should not miss </a></h2><p>Flipkart Big Billion Days sale has ended but the Amazon Great Indian sale is\n",
       " still on. The Amazon sale is in its second week and it will go on for a\n",
       " month.</p></div>,\n",
       " <div class=\"detail\"><h2 class=\"\" title=\"Vi double data prepaid plans start at Rs 299, give data spread up to 336 GB\"><a href=\"/technology/news/story/vi-double-data-prepaid-plans-start-at-rs-299-give-data-spread-up-to-336-gb-1734397-2020-10-23\">Vi double data prepaid plans start at Rs 299, give data spread up to 336 GB</a></h2><p>Vi users who are looking for data benefits have a range of options to choose\n",
       " from. Vi recently brought in the data-rollover benefit that will allow them\n",
       " to accumulate and use data over weekends.</p></div>,\n",
       " <div class=\"detail\"><h2 class=\"\" title=\"iPhone 12, 12 Pro to be available with up to Rs 6,000 cashback at Apple authorised stores\"><a href=\"/technology/news/story/iphone-12-12-pro-to-be-available-with-up-to-rs-6-000-cashback-at-apple-authorised-stores-1734388-2020-10-23\">iPhone 12, 12 Pro to be available with up to Rs 6,000 cashback at Apple authorised stores</a></h2><p>Apple has begun pre-orders for the iPhone 12 and iPhone 12 Pro in India but\n",
       " shipping will begin from October 30.</p></div>,\n",
       " <div class=\"detail\"><h2 class=\"\" title=\"Samsung Galaxy S20 FE facing touchscreen issues, company promises a fix\"><a href=\"/technology/news/story/samsung-galaxy-s20-fe-facing-touchscreen-issues-company-promises-a-fix-1734364-2020-10-23\">Samsung Galaxy S20 FE facing touchscreen issues, company promises a fix</a></h2><p>The touchscreen issues may not be widespread as only a few users have\n",
       " reported facing the problem.</p></div>,\n",
       " <div class=\"detail\"><h2 class=\"\" title=\"Realme Festive Days sale brings Rs 7,000 off on X50 Pro, Watch for Rs 3,299, and more deals\"><a href=\"/technology/news/story/realme-festive-days-sale-brings-rs-7-000-off-on-x50-pro-watch-for-rs-3-299-and-more-deals-1734360-2020-10-23\">Realme Festive Days sale brings Rs 7,000 off on X50 Pro, Watch for Rs 3,299, and more deals</a></h2><p>Realme Festive Days sale has been extended to October 28 and the offers on a\n",
       " range of devices continue.</p></div>,\n",
       " <div class=\"detail\"><h2 class=\"\" title=\"Google Play Music app shuts down, music transfers cannot be made after December 2020\"><a href=\"/technology/news/story/google-play-music-app-shuts-down-music-transfers-cannot-be-made-after-december-2020-1734349-2020-10-23\">Google Play Music app shuts down, music transfers cannot be made after December 2020</a></h2><p>After Google Play Music shut down for the web last week, the service has\n",
       " started shutting shop for app users as well asking users to move to YouTube\n",
       " Music app.</p></div>,\n",
       " <div class=\"detail\"><h2 class=\"\" title=\"Apple iPhone 12 Pro, iPhone 12 pre-orders start today: Price, specifications and more\"><a href=\"/technology/news/story/apple-iphone-12-pro-iphone-12-pre-orders-start-today-price-specifications-and-more-1734335-2020-10-23\">Apple iPhone 12 Pro, iPhone 12 pre-orders start today: Price, specifications and more</a></h2><p>Apple iPhone 12 Pro and iPhone 12 pre-orders have started in India. The\n",
       " phones can be pre-ordered on the official website of Apple.</p></div>,\n",
       " <div class=\"detail\"><h2 class=\"\" title=\"Redmi K30S teased, could be more affordable than Redmi K30 Ultra\"><a href=\"/technology/news/story/redmi-k30s-teased-could-be-more-affordable-than-redmi-k30-ultra-1734329-2020-10-23\">Redmi K30S teased, could be more affordable than Redmi K30 Ultra</a></h2><p>A known tipster has revealed that the Redmi K30S will be cheaper than the K30\n",
       " Ultra. Here's all you need to know.</p></div>]"
      ]
     },
     "execution_count": 5,
     "metadata": {},
     "output_type": "execute_result"
    }
   ],
   "source": [
    "category=soup.find_all(\"div\",{\"class\":\"detail\"})\n",
    "category"
   ]
  },
  {
   "cell_type": "code",
   "execution_count": 22,
   "metadata": {},
   "outputs": [],
   "source": [
    "list1=[]\n",
    "dict1={}\n",
    "for res in category:\n",
    "        dict1[\"Title\"] = (res.find('h2').text)\n",
    "        dict1[\"Description\"] = (res.find('a').text+ res.find('p').text)\n",
    "        list1.append(dict(dict1))"
   ]
  },
  {
   "cell_type": "code",
   "execution_count": 23,
   "metadata": {},
   "outputs": [],
   "source": [
    "import json"
   ]
  },
  {
   "cell_type": "code",
   "execution_count": 24,
   "metadata": {},
   "outputs": [],
   "source": [
    "with open('/Users/KANAWADE AKSHAY/Desktop/tech.json', 'w') as fp:\n",
    "    for item in list1:\n",
    "        json.dump(item,fp)"
   ]
  },
  {
   "cell_type": "code",
   "execution_count": 25,
   "metadata": {},
   "outputs": [],
   "source": [
    "with open('/Users/KANAWADE AKSHAY/Desktop/tech.json') as fp:\n",
    "     data=fp.read()"
   ]
  },
  {
   "cell_type": "code",
   "execution_count": 26,
   "metadata": {},
   "outputs": [
    {
     "data": {
      "text/plain": [
       "'{\"Title\": \"Facebook\\\\u2019s Ankhi Das questioned by Parliament panel, Amazon team refuses to appear\", \"Description\": \"Facebook\\\\u2019s Ankhi Das questioned by Parliament panel, Amazon team refuses to appearReports say that Facebook\\\\u2019s India policy head Ankhi Das, accused of\\\\nfavouring some BJP politicians on the social media site, appeared before a\\\\nParliament panel and was questioned for over two hours.\"}{\"Title\": \"Oppo A15 now available to buy on Amazon with 10 per cent discount\", \"Description\": \"Oppo A15 now available to buy on Amazon with 10 per cent discountOppo A15 brings a MediaTek Helio P35 processor paired with 3GB of RAM and\\\\n32GB of storage.\"}{\"Title\": \"OnePlus Nord N10, N100 full specifications, features leak ahead of launch\", \"Description\": \"OnePlus Nord N10, N100 full specifications, features leak ahead of launchAn exhaustive leak has revealed almost all there is to know about the rumored\\\\nNord device.\"}{\"Title\": \"Micromax to make comeback on November 3 with In smartphones\", \"Description\": \"Micromax to make comeback on November 3 with In smartphonesMicromax has scheduled an event for next month where it will announce new\\\\nsmartphones.\"}{\"Title\": \"Amazon Great Indian Festival sale to continue for a month: Top deals you should not miss\\\\u00a0\", \"Description\": \"Amazon Great Indian Festival sale to continue for a month: Top deals you should not miss\\\\u00a0Flipkart Big Billion Days sale has ended but the Amazon Great Indian sale is\\\\nstill on. The Amazon sale is in its second week and it will go on for a\\\\nmonth.\"}{\"Title\": \"Vi double data prepaid plans start at Rs 299, give data spread up to 336 GB\", \"Description\": \"Vi double data prepaid plans start at Rs 299, give data spread up to 336 GBVi users who are looking for data benefits have a range of options to choose\\\\nfrom. Vi recently brought in the data-rollover benefit that will allow them\\\\nto accumulate and use data over weekends.\"}{\"Title\": \"iPhone 12, 12 Pro to be available with up to Rs 6,000 cashback at Apple authorised stores\", \"Description\": \"iPhone 12, 12 Pro to be available with up to Rs 6,000 cashback at Apple authorised storesApple has begun pre-orders for the iPhone 12 and iPhone 12 Pro in India but\\\\nshipping will begin from October 30.\"}{\"Title\": \"Samsung Galaxy S20 FE facing touchscreen issues, company promises a fix\", \"Description\": \"Samsung Galaxy S20 FE facing touchscreen issues, company promises a fixThe touchscreen issues may not be widespread as only a few users have\\\\nreported facing the problem.\"}{\"Title\": \"Realme Festive Days sale brings Rs 7,000 off on X50 Pro, Watch for Rs 3,299, and more deals\", \"Description\": \"Realme Festive Days sale brings Rs 7,000 off on X50 Pro, Watch for Rs 3,299, and more dealsRealme Festive Days sale has been extended to October 28 and the offers on a\\\\nrange of devices continue.\"}{\"Title\": \"Google Play Music app shuts down, music transfers cannot be made after December 2020\", \"Description\": \"Google Play Music app shuts down, music transfers cannot be made after December 2020After Google Play Music shut down for the web last week, the service has\\\\nstarted shutting shop for app users as well asking users to move to YouTube\\\\nMusic app.\"}{\"Title\": \"Apple iPhone 12 Pro, iPhone 12 pre-orders start today: Price, specifications and more\", \"Description\": \"Apple iPhone 12 Pro, iPhone 12 pre-orders start today: Price, specifications and moreApple iPhone 12 Pro and iPhone 12 pre-orders have started in India. The\\\\nphones can be pre-ordered on the official website of Apple.\"}{\"Title\": \"Redmi K30S teased, could be more affordable than Redmi K30 Ultra\", \"Description\": \"Redmi K30S teased, could be more affordable than Redmi K30 UltraA known tipster has revealed that the Redmi K30S will be cheaper than the K30\\\\nUltra. Here\\'s all you need to know.\"}'"
      ]
     },
     "execution_count": 26,
     "metadata": {},
     "output_type": "execute_result"
    }
   ],
   "source": [
    "data"
   ]
  },
  {
   "cell_type": "code",
   "execution_count": null,
   "metadata": {},
   "outputs": [],
   "source": []
  }
 ],
 "metadata": {
  "kernelspec": {
   "display_name": "Python 3",
   "language": "python",
   "name": "python3"
  },
  "language_info": {
   "codemirror_mode": {
    "name": "ipython",
    "version": 3
   },
   "file_extension": ".py",
   "mimetype": "text/x-python",
   "name": "python",
   "nbconvert_exporter": "python",
   "pygments_lexer": "ipython3",
   "version": "3.7.6"
  }
 },
 "nbformat": 4,
 "nbformat_minor": 4
}
